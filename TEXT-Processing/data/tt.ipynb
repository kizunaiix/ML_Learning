{
 "cells": [
  {
   "cell_type": "code",
   "execution_count": 1,
   "metadata": {},
   "outputs": [],
   "source": [
    "import pandas as pd"
   ]
  },
  {
   "cell_type": "code",
   "execution_count": 2,
   "metadata": {},
   "outputs": [
    {
     "name": "stdout",
     "output_type": "stream",
     "text": [
      "xiaoming\n"
     ]
    },
    {
     "data": {
      "text/plain": [
       "name     xiaoming\n",
       "score         300\n",
       "dtype: object"
      ]
     },
     "execution_count": 2,
     "metadata": {},
     "output_type": "execute_result"
    }
   ],
   "source": [
    "data = ((1,2,3,4,5),(6,7,8,9,0))\n",
    "df1 = pd.DataFrame(data)\n",
    "\n",
    "dic = {\"name\":\"xiaoming\",\"score\":300}\n",
    "print(dic['name'])\n",
    "# df2 = pd.DataFrame(dic,column=[\"name\",\"score\"])\n",
    "df2 = pd.Series(dic)\n",
    "df2\n"
   ]
  },
  {
   "cell_type": "code",
   "execution_count": null,
   "metadata": {},
   "outputs": [],
   "source": []
  }
 ],
 "metadata": {
  "kernelspec": {
   "display_name": "Python 3.9.1 64-bit",
   "language": "python",
   "name": "python3"
  },
  "language_info": {
   "codemirror_mode": {
    "name": "ipython",
    "version": 3
   },
   "file_extension": ".py",
   "mimetype": "text/x-python",
   "name": "python",
   "nbconvert_exporter": "python",
   "pygments_lexer": "ipython3",
   "version": "3.9.1"
  },
  "orig_nbformat": 4,
  "vscode": {
   "interpreter": {
    "hash": "343c0a9bb0206b8d4748b7ea14945434d6ca4efe71b4f4fbf89872213bd697b0"
   }
  }
 },
 "nbformat": 4,
 "nbformat_minor": 2
}

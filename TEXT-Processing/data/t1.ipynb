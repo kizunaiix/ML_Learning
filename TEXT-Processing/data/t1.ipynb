{
 "cells": [
  {
   "cell_type": "code",
   "execution_count": 1,
   "metadata": {},
   "outputs": [],
   "source": [
    "import pandas as pd\n",
    "import pymysql\n"
   ]
  },
  {
   "cell_type": "markdown",
   "metadata": {},
   "source": [
    "#### 连接到数据库取students表"
   ]
  },
  {
   "cell_type": "code",
   "execution_count": 2,
   "metadata": {},
   "outputs": [
    {
     "name": "stdout",
     "output_type": "stream",
     "text": [
      "((1, 1, '小明', 'M', 90), (2, 1, '小红', 'F', 95), (3, 1, '小军', 'M', 88), (4, 1, '小米', 'F', 73), (5, 2, '小白', 'F', 81), (6, 2, '小兵', 'M', 55), (7, 2, '小林', 'M', 85), (8, 3, '小新', 'F', 91), (9, 3, '小王', 'M', 89), (10, 3, '小丽', 'F', 85))\n"
     ]
    }
   ],
   "source": [
    "conn = pymysql.connect(host=\"localhost\",user=\"root\",password=\"114514\",db=\"test\")\n",
    "cursor = conn.cursor()\n",
    "\n",
    "cursor.execute(\"select * from students;\")\n",
    "result = cursor.fetchall()\n",
    "\n",
    "cursor.close()\n",
    "conn.close()\n",
    "\n",
    "print(result)"
   ]
  },
  {
   "cell_type": "code",
   "execution_count": 4,
   "metadata": {},
   "outputs": [
    {
     "data": {
      "text/plain": [
       "0     (1, 1, 小明, M, 90)\n",
       "1     (2, 1, 小红, F, 95)\n",
       "2     (3, 1, 小军, M, 88)\n",
       "3     (4, 1, 小米, F, 73)\n",
       "4     (5, 2, 小白, F, 81)\n",
       "5     (6, 2, 小兵, M, 55)\n",
       "6     (7, 2, 小林, M, 85)\n",
       "7     (8, 3, 小新, F, 91)\n",
       "8     (9, 3, 小王, M, 89)\n",
       "9    (10, 3, 小丽, F, 85)\n",
       "dtype: object"
      ]
     },
     "execution_count": 4,
     "metadata": {},
     "output_type": "execute_result"
    }
   ],
   "source": [
    "\n",
    "\n",
    "data2 = result\n",
    "\n",
    "df2 = pd.DataFrame(data2,columns=[\"id\",\"classID\",\"name\",\"gender\",\"score\"])\n",
    "\n",
    "df2 = pd.Series(data2)\n",
    "df2"
   ]
  }
 ],
 "metadata": {
  "kernelspec": {
   "display_name": "Python 3.7.4 64-bit",
   "language": "python",
   "name": "python3"
  },
  "language_info": {
   "codemirror_mode": {
    "name": "ipython",
    "version": 3
   },
   "file_extension": ".py",
   "mimetype": "text/x-python",
   "name": "python",
   "nbconvert_exporter": "python",
   "pygments_lexer": "ipython3",
   "version": "3.7.4"
  },
  "orig_nbformat": 4,
  "vscode": {
   "interpreter": {
    "hash": "30099e2d8de4d5c761ea1e8916053ecd84f5bbdcd3f1cfc56b8a0d5e7f6cdc37"
   }
  }
 },
 "nbformat": 4,
 "nbformat_minor": 2
}
